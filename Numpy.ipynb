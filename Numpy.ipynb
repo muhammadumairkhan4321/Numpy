{
 "cells": [
  {
   "cell_type": "markdown",
   "id": "2f480044",
   "metadata": {},
   "source": [
    "## **1. Creating Arrays**"
   ]
  },
  {
   "cell_type": "code",
   "execution_count": 1,
   "id": "9e5945b3",
   "metadata": {},
   "outputs": [],
   "source": [
    "import numpy as np"
   ]
  },
  {
   "cell_type": "code",
   "execution_count": 11,
   "id": "572abd8d",
   "metadata": {},
   "outputs": [
    {
     "data": {
      "text/plain": [
       "array([1, 2, 3])"
      ]
     },
     "execution_count": 11,
     "metadata": {},
     "output_type": "execute_result"
    }
   ],
   "source": [
    "# 1D\n",
    "a = np.array([1,2,3])\n",
    "a"
   ]
  },
  {
   "cell_type": "code",
   "execution_count": 10,
   "id": "53c3f76e",
   "metadata": {},
   "outputs": [
    {
     "data": {
      "text/plain": [
       "array([[1, 2, 3],\n",
       "       [4, 5, 6]])"
      ]
     },
     "execution_count": 10,
     "metadata": {},
     "output_type": "execute_result"
    }
   ],
   "source": [
    "# 2D\n",
    "Two_D =np.array([[1,2,3],[4,5,6]])\n",
    "Two_D"
   ]
  },
  {
   "cell_type": "code",
   "execution_count": 9,
   "id": "6bea28a4",
   "metadata": {},
   "outputs": [
    {
     "data": {
      "text/plain": [
       "array([[0., 0., 0., 0.],\n",
       "       [0., 0., 0., 0.]])"
      ]
     },
     "execution_count": 9,
     "metadata": {},
     "output_type": "execute_result"
    }
   ],
   "source": [
    "# Array of zeros\n",
    "zeros =np.zeros((2,4))\n",
    "zeros"
   ]
  },
  {
   "cell_type": "code",
   "execution_count": 8,
   "id": "86bee5df",
   "metadata": {},
   "outputs": [
    {
     "data": {
      "text/plain": [
       "array([[1., 1., 1.],\n",
       "       [1., 1., 1.],\n",
       "       [1., 1., 1.]])"
      ]
     },
     "execution_count": 8,
     "metadata": {},
     "output_type": "execute_result"
    }
   ],
   "source": [
    "# Array of ones\n",
    "ones =np.ones((3,3))\n",
    "ones"
   ]
  },
  {
   "cell_type": "code",
   "execution_count": 7,
   "id": "53df2d84",
   "metadata": {},
   "outputs": [
    {
     "data": {
      "text/plain": [
       "array([0, 2, 4, 6, 8])"
      ]
     },
     "execution_count": 7,
     "metadata": {},
     "output_type": "execute_result"
    }
   ],
   "source": [
    "# Array with a range of value\n",
    "range_arrays = np.arange(0,10,2)\n",
    "range_arrays"
   ]
  },
  {
   "cell_type": "code",
   "execution_count": 15,
   "id": "e85b1380",
   "metadata": {},
   "outputs": [
    {
     "data": {
      "text/plain": [
       "array([0. , 0.4, 0.8, 1.2, 1.6, 2. ])"
      ]
     },
     "execution_count": 15,
     "metadata": {},
     "output_type": "execute_result"
    }
   ],
   "source": [
    " # Array with evenly spaced values\n",
    " linspace_array =np.linspace(0,2,6)\n",
    " linspace_array"
   ]
  },
  {
   "cell_type": "markdown",
   "id": "37c73bd3",
   "metadata": {},
   "source": [
    "## **2. Array Attributes**"
   ]
  },
  {
   "cell_type": "code",
   "execution_count": 17,
   "id": "3aec49ef",
   "metadata": {},
   "outputs": [
    {
     "data": {
      "text/plain": [
       "array([1, 2, 3])"
      ]
     },
     "execution_count": 17,
     "metadata": {},
     "output_type": "execute_result"
    }
   ],
   "source": [
    "a = np.array([1,2,3])\n",
    "b = np.array([[1,2,3],[4,5,6]])\n",
    "a\n"
   ]
  },
  {
   "cell_type": "code",
   "execution_count": 18,
   "id": "bc00e8c8",
   "metadata": {},
   "outputs": [
    {
     "data": {
      "text/plain": [
       "array([[1, 2, 3],\n",
       "       [4, 5, 6]])"
      ]
     },
     "execution_count": 18,
     "metadata": {},
     "output_type": "execute_result"
    }
   ],
   "source": [
    "b"
   ]
  },
  {
   "cell_type": "code",
   "execution_count": 20,
   "id": "eeea189c",
   "metadata": {},
   "outputs": [
    {
     "name": "stdout",
     "output_type": "stream",
     "text": [
      "(3,)\n",
      "(2, 3)\n"
     ]
    }
   ],
   "source": [
    "print(a.shape)\n",
    "print(b.shape)"
   ]
  },
  {
   "cell_type": "code",
   "execution_count": 22,
   "id": "cd37bee6",
   "metadata": {},
   "outputs": [
    {
     "name": "stdout",
     "output_type": "stream",
     "text": [
      "1\n",
      "2\n"
     ]
    }
   ],
   "source": [
    "print(a.ndim)\n",
    "print(b.ndim)   # Dimension"
   ]
  },
  {
   "cell_type": "code",
   "execution_count": 24,
   "id": "066d884d",
   "metadata": {},
   "outputs": [
    {
     "name": "stdout",
     "output_type": "stream",
     "text": [
      "int64\n",
      "int64\n"
     ]
    }
   ],
   "source": [
    "print(a.dtype)\n",
    "print(b.dtype)"
   ]
  },
  {
   "cell_type": "markdown",
   "id": "89b78db5",
   "metadata": {},
   "source": [
    "## **3. Basic Operations**"
   ]
  },
  {
   "cell_type": "code",
   "execution_count": 25,
   "id": "da2d3d32",
   "metadata": {},
   "outputs": [],
   "source": [
    "x = np.array([1,2,3]) \n",
    "y = np.array([4,5,6])"
   ]
  },
  {
   "cell_type": "code",
   "execution_count": 26,
   "id": "6eb57d68",
   "metadata": {},
   "outputs": [
    {
     "name": "stdout",
     "output_type": "stream",
     "text": [
      "[5 7 9]\n"
     ]
    }
   ],
   "source": [
    "# Element-wise addirion\n",
    "print(x+y)"
   ]
  },
  {
   "cell_type": "code",
   "execution_count": 27,
   "id": "f89ba0c0",
   "metadata": {},
   "outputs": [
    {
     "name": "stdout",
     "output_type": "stream",
     "text": [
      "[ 4 10 18]\n"
     ]
    }
   ],
   "source": [
    "# Element-wise additon\n",
    "print( x*y )"
   ]
  },
  {
   "cell_type": "code",
   "execution_count": 28,
   "id": "7eb68d47",
   "metadata": {},
   "outputs": [
    {
     "name": "stdout",
     "output_type": "stream",
     "text": [
      "[1.         1.41421356 1.73205081]\n"
     ]
    }
   ],
   "source": [
    "# Universal function\n",
    "print(np.sqrt(x))"
   ]
  },
  {
   "cell_type": "markdown",
   "id": "92da5681",
   "metadata": {},
   "source": [
    "## **4. Indexing and Slicing**"
   ]
  },
  {
   "cell_type": "code",
   "execution_count": 29,
   "id": "cde853e7",
   "metadata": {},
   "outputs": [],
   "source": [
    "arr = np.array([[1,2,3],[4,5,6]])"
   ]
  },
  {
   "cell_type": "code",
   "execution_count": 30,
   "id": "744b7067",
   "metadata": {},
   "outputs": [
    {
     "name": "stdout",
     "output_type": "stream",
     "text": [
      "3\n"
     ]
    }
   ],
   "source": [
    "# Accessing element \n",
    "print(arr[0,2]) # Output : 3"
   ]
  },
  {
   "cell_type": "code",
   "execution_count": 31,
   "id": "54784318",
   "metadata": {},
   "outputs": [
    {
     "name": "stdout",
     "output_type": "stream",
     "text": [
      "[2 5]\n"
     ]
    }
   ],
   "source": [
    "# Slicing\n",
    "print(arr[:, 1])"
   ]
  },
  {
   "cell_type": "code",
   "execution_count": 32,
   "id": "31aae945",
   "metadata": {},
   "outputs": [
    {
     "name": "stdout",
     "output_type": "stream",
     "text": [
      "[3 6]\n"
     ]
    }
   ],
   "source": [
    "print(arr[:,2])"
   ]
  },
  {
   "cell_type": "code",
   "execution_count": 34,
   "id": "aa6f0e30",
   "metadata": {},
   "outputs": [
    {
     "name": "stdout",
     "output_type": "stream",
     "text": [
      "[10 30]\n"
     ]
    }
   ],
   "source": [
    "# Fancy indexing\n",
    "a = np.array([10,20,30,40,50])\n",
    "print(a[[0,2]])"
   ]
  },
  {
   "cell_type": "code",
   "execution_count": 35,
   "id": "612533c5",
   "metadata": {},
   "outputs": [
    {
     "name": "stdout",
     "output_type": "stream",
     "text": [
      "50\n"
     ]
    }
   ],
   "source": [
    "# Nagetive indexing\n",
    "print(a[-1])"
   ]
  },
  {
   "cell_type": "markdown",
   "id": "0492e0f8",
   "metadata": {},
   "source": [
    "## **5. Boolean Masking**"
   ]
  },
  {
   "cell_type": "code",
   "execution_count": 36,
   "id": "db60f2f5",
   "metadata": {},
   "outputs": [
    {
     "name": "stdout",
     "output_type": "stream",
     "text": [
      "[4 5 6]\n"
     ]
    }
   ],
   "source": [
    "mask = arr > 3\n",
    "print(arr[mask])"
   ]
  },
  {
   "cell_type": "code",
   "execution_count": 37,
   "id": "f387de5c",
   "metadata": {},
   "outputs": [
    {
     "data": {
      "text/plain": [
       "array([[1, 2, 3],\n",
       "       [4, 5, 6]])"
      ]
     },
     "execution_count": 37,
     "metadata": {},
     "output_type": "execute_result"
    }
   ],
   "source": [
    "arr"
   ]
  },
  {
   "cell_type": "markdown",
   "id": "e9b8949d",
   "metadata": {},
   "source": [
    "##  **6. Reshapping Array**"
   ]
  },
  {
   "cell_type": "code",
   "execution_count": 38,
   "id": "778b0845",
   "metadata": {},
   "outputs": [
    {
     "data": {
      "text/plain": [
       "array([[1, 2, 3],\n",
       "       [4, 5, 6]])"
      ]
     },
     "execution_count": 38,
     "metadata": {},
     "output_type": "execute_result"
    }
   ],
   "source": [
    "arr"
   ]
  },
  {
   "cell_type": "code",
   "execution_count": 39,
   "id": "aa6a314a",
   "metadata": {},
   "outputs": [
    {
     "data": {
      "text/plain": [
       "array([[1, 2],\n",
       "       [3, 4],\n",
       "       [5, 6]])"
      ]
     },
     "execution_count": 39,
     "metadata": {},
     "output_type": "execute_result"
    }
   ],
   "source": [
    "reshaped = arr.reshape((3,2))\n",
    "reshaped"
   ]
  },
  {
   "cell_type": "markdown",
   "id": "7bf1b670",
   "metadata": {},
   "source": [
    "## **7. Stacking Array**"
   ]
  },
  {
   "cell_type": "code",
   "execution_count": 40,
   "id": "e4be0d8c",
   "metadata": {},
   "outputs": [],
   "source": [
    "a = np.array([1,2])\n",
    "b = np.array([3,4])"
   ]
  },
  {
   "cell_type": "code",
   "execution_count": 41,
   "id": "6a76b8ac",
   "metadata": {},
   "outputs": [
    {
     "name": "stdout",
     "output_type": "stream",
     "text": [
      "[[1 2]\n",
      " [3 4]]\n"
     ]
    }
   ],
   "source": [
    "# Vertical stack\n",
    "print(np.vstack((a, b)))"
   ]
  },
  {
   "cell_type": "code",
   "execution_count": 42,
   "id": "b5098c39",
   "metadata": {},
   "outputs": [
    {
     "name": "stdout",
     "output_type": "stream",
     "text": [
      "[1 2 3 4]\n"
     ]
    }
   ],
   "source": [
    "# Horizontal stack\n",
    "print(np.hstack((a, b)))"
   ]
  },
  {
   "cell_type": "markdown",
   "id": "b30110b5",
   "metadata": {},
   "source": [
    "## **8. Splitting Array**"
   ]
  },
  {
   "cell_type": "code",
   "execution_count": 43,
   "id": "e8b86f07",
   "metadata": {},
   "outputs": [
    {
     "data": {
      "text/plain": [
       "[array([[1, 2, 3]]), array([[4, 5, 6]])]"
      ]
     },
     "execution_count": 43,
     "metadata": {},
     "output_type": "execute_result"
    }
   ],
   "source": [
    "x = np.array([[1, 2, 3], [4, 5, 6]])\n",
    "np.hsplit(x, 3)    # Split into 3 columns\n",
    "np.vsplit(x, 2)    # Split into 2 rows"
   ]
  },
  {
   "cell_type": "markdown",
   "id": "e0d64ab0",
   "metadata": {},
   "source": [
    "## **9. Broadcasting**"
   ]
  },
  {
   "cell_type": "code",
   "execution_count": 44,
   "id": "29b89ec9",
   "metadata": {},
   "outputs": [
    {
     "name": "stdout",
     "output_type": "stream",
     "text": [
      "[1 2 3 4] next\n",
      "[[4]\n",
      " [5]\n",
      " [6]]\n"
     ]
    }
   ],
   "source": [
    "a = np.array([1,2,3,4])\n",
    "b = np.array([[4],[5],[6]])\n",
    "print(a, \"next\")\n",
    "print(b)"
   ]
  },
  {
   "cell_type": "code",
   "execution_count": 45,
   "id": "ec031e18",
   "metadata": {},
   "outputs": [
    {
     "name": "stdout",
     "output_type": "stream",
     "text": [
      "[[ 5  6  7  8]\n",
      " [ 6  7  8  9]\n",
      " [ 7  8  9 10]]\n"
     ]
    }
   ],
   "source": [
    "print(a + b)"
   ]
  },
  {
   "cell_type": "markdown",
   "id": "5d731712",
   "metadata": {},
   "source": [
    "## **10. Linear Algebra Operations**"
   ]
  },
  {
   "cell_type": "code",
   "execution_count": 46,
   "id": "cb6227e5",
   "metadata": {},
   "outputs": [],
   "source": [
    "\n",
    "from numpy.linalg import inv, eig, svd"
   ]
  },
  {
   "cell_type": "code",
   "execution_count": 47,
   "id": "2a9f0f07",
   "metadata": {},
   "outputs": [
    {
     "data": {
      "text/plain": [
       "array([[1, 2],\n",
       "       [3, 4]])"
      ]
     },
     "execution_count": 47,
     "metadata": {},
     "output_type": "execute_result"
    }
   ],
   "source": [
    "matrix = np.array([[1,2],[3,4]])\n",
    "matrix"
   ]
  },
  {
   "cell_type": "code",
   "execution_count": 48,
   "id": "9eecedd8",
   "metadata": {},
   "outputs": [
    {
     "name": "stdout",
     "output_type": "stream",
     "text": [
      "[[-2.   1. ]\n",
      " [ 1.5 -0.5]]\n"
     ]
    }
   ],
   "source": [
    "# inverse\n",
    "print(inv(matrix))"
   ]
  },
  {
   "cell_type": "code",
   "execution_count": 49,
   "id": "61e449fc",
   "metadata": {},
   "outputs": [],
   "source": [
    "# Eigenvalues and eigenvectors\n",
    "eigenvalues, eigenvectors = eig(matrix)"
   ]
  },
  {
   "cell_type": "code",
   "execution_count": 50,
   "id": "c422e9df",
   "metadata": {},
   "outputs": [
    {
     "name": "stdout",
     "output_type": "stream",
     "text": [
      "[-0.37228132  5.37228132]\n"
     ]
    }
   ],
   "source": [
    "print(eigenvalues)"
   ]
  },
  {
   "cell_type": "code",
   "execution_count": 51,
   "id": "1472f641",
   "metadata": {},
   "outputs": [
    {
     "name": "stdout",
     "output_type": "stream",
     "text": [
      "[[-0.82456484 -0.41597356]\n",
      " [ 0.56576746 -0.90937671]]\n"
     ]
    }
   ],
   "source": [
    "print(eigenvectors)"
   ]
  },
  {
   "cell_type": "code",
   "execution_count": 52,
   "id": "20039876",
   "metadata": {},
   "outputs": [],
   "source": [
    "# Singular Value Decomposition\n",
    "U, S, V = svd(matrix)"
   ]
  },
  {
   "cell_type": "code",
   "execution_count": 53,
   "id": "baf8eef6",
   "metadata": {},
   "outputs": [
    {
     "name": "stdout",
     "output_type": "stream",
     "text": [
      "[[-0.40455358 -0.9145143 ]\n",
      " [-0.9145143   0.40455358]]\n"
     ]
    }
   ],
   "source": [
    "print(U)"
   ]
  },
  {
   "cell_type": "code",
   "execution_count": 54,
   "id": "93c3170b",
   "metadata": {},
   "outputs": [
    {
     "name": "stdout",
     "output_type": "stream",
     "text": [
      "[5.4649857  0.36596619]\n"
     ]
    }
   ],
   "source": [
    "print(S)"
   ]
  },
  {
   "cell_type": "code",
   "execution_count": 55,
   "id": "434042ec",
   "metadata": {},
   "outputs": [
    {
     "name": "stdout",
     "output_type": "stream",
     "text": [
      "[[-0.57604844 -0.81741556]\n",
      " [ 0.81741556 -0.57604844]]\n"
     ]
    }
   ],
   "source": [
    "print(V)"
   ]
  },
  {
   "cell_type": "code",
   "execution_count": 56,
   "id": "3fb7d21f",
   "metadata": {},
   "outputs": [
    {
     "data": {
      "text/plain": [
       "array([[19, 22],\n",
       "       [43, 50]])"
      ]
     },
     "execution_count": 56,
     "metadata": {},
     "output_type": "execute_result"
    }
   ],
   "source": [
    "# Matrix Multiplication\n",
    "a = np.array([[1, 2], [3, 4]])\n",
    "b = np.array([[5, 6], [7, 8]])\n",
    "c = a @ b\n",
    "c"
   ]
  },
  {
   "cell_type": "code",
   "execution_count": 57,
   "id": "267e1aba",
   "metadata": {},
   "outputs": [
    {
     "data": {
      "text/plain": [
       "array([[19, 22],\n",
       "       [43, 50]])"
      ]
     },
     "execution_count": 57,
     "metadata": {},
     "output_type": "execute_result"
    }
   ],
   "source": [
    "np.dot(a,b)"
   ]
  },
  {
   "cell_type": "code",
   "execution_count": 58,
   "id": "07a86bb3",
   "metadata": {},
   "outputs": [
    {
     "data": {
      "text/plain": [
       "array([[-2. ,  1. ],\n",
       "       [ 1.5, -0.5]])"
      ]
     },
     "execution_count": 58,
     "metadata": {},
     "output_type": "execute_result"
    }
   ],
   "source": [
    "# Matrix Inverse & Determinant\n",
    "from numpy.linalg import inv, det\n",
    "inv_a = inv(a)\n",
    "inv_a"
   ]
  },
  {
   "cell_type": "code",
   "execution_count": 59,
   "id": "2f8c507b",
   "metadata": {},
   "outputs": [
    {
     "data": {
      "text/plain": [
       "np.float64(-2.0000000000000004)"
      ]
     },
     "execution_count": 59,
     "metadata": {},
     "output_type": "execute_result"
    }
   ],
   "source": [
    "det_a = det(a)\n",
    "det_a"
   ]
  },
  {
   "cell_type": "code",
   "execution_count": 60,
   "id": "3b22d3d5",
   "metadata": {},
   "outputs": [],
   "source": [
    "# Solve Linear Systems\n",
    "from numpy.linalg import solve\n",
    "x = solve(a, np.array([1, 0]))"
   ]
  },
  {
   "cell_type": "code",
   "execution_count": 61,
   "id": "4857aad9",
   "metadata": {},
   "outputs": [
    {
     "data": {
      "text/plain": [
       "array([-2. ,  1.5])"
      ]
     },
     "execution_count": 61,
     "metadata": {},
     "output_type": "execute_result"
    }
   ],
   "source": [
    "x"
   ]
  },
  {
   "cell_type": "markdown",
   "id": "7eba0fbe",
   "metadata": {},
   "source": [
    "## **11. Random Number Generation**"
   ]
  },
  {
   "cell_type": "code",
   "execution_count": 62,
   "id": "5fec824b",
   "metadata": {},
   "outputs": [],
   "source": [
    "# Random floats in [0.0, 1.0]\n",
    "random_floats = np.random.rand(3,2)"
   ]
  },
  {
   "cell_type": "code",
   "execution_count": 65,
   "id": "b4aa0d93",
   "metadata": {},
   "outputs": [
    {
     "data": {
      "text/plain": [
       "array([[0.86132811, 0.6275928 ],\n",
       "       [0.58299166, 0.02265547],\n",
       "       [0.85488157, 0.15633149]])"
      ]
     },
     "execution_count": 65,
     "metadata": {},
     "output_type": "execute_result"
    }
   ],
   "source": [
    "random_floats\n"
   ]
  },
  {
   "cell_type": "code",
   "execution_count": 68,
   "id": "4b028ffa",
   "metadata": {},
   "outputs": [
    {
     "data": {
      "text/plain": [
       "array([[7, 1],\n",
       "       [9, 8],\n",
       "       [2, 4]], dtype=int32)"
      ]
     },
     "execution_count": 68,
     "metadata": {},
     "output_type": "execute_result"
    }
   ],
   "source": [
    "# Random integers b/w 0 and 20\n",
    "random_integers = np.random.randint(0, 20, size= (3,2))\n",
    "random_integers\n"
   ]
  },
  {
   "cell_type": "code",
   "execution_count": 69,
   "id": "eba32a8e",
   "metadata": {},
   "outputs": [],
   "source": [
    "# Generate Random Values\n",
    "import numpy as np"
   ]
  },
  {
   "cell_type": "code",
   "execution_count": 70,
   "id": "9b1c31e2",
   "metadata": {},
   "outputs": [
    {
     "data": {
      "text/plain": [
       "array([[0.03780252, 0.70178417, 0.46907476],\n",
       "       [0.91302009, 0.47758579, 0.18688143]])"
      ]
     },
     "execution_count": 70,
     "metadata": {},
     "output_type": "execute_result"
    }
   ],
   "source": [
    "np.random.rand(2, 3)     # Uniform [0, 1)"
   ]
  },
  {
   "cell_type": "code",
   "execution_count": 71,
   "id": "1877a8f1",
   "metadata": {},
   "outputs": [
    {
     "data": {
      "text/plain": [
       "array([[8, 6, 6],\n",
       "       [9, 1, 4]], dtype=int32)"
      ]
     },
     "execution_count": 71,
     "metadata": {},
     "output_type": "execute_result"
    }
   ],
   "source": [
    "np.random.randint(1, 10, size=(2, 3))  # Integers"
   ]
  },
  {
   "cell_type": "code",
   "execution_count": 74,
   "id": "fcbd3eb1",
   "metadata": {},
   "outputs": [
    {
     "data": {
      "text/plain": [
       "array([10, 20, 30, 30, 30])"
      ]
     },
     "execution_count": 74,
     "metadata": {},
     "output_type": "execute_result"
    }
   ],
   "source": [
    "# Random Choice\n",
    "np.random.choice([10, 20, 30], size=5, p=[0.1, 0.3, 0.6])"
   ]
  },
  {
   "cell_type": "code",
   "execution_count": 76,
   "id": "9d394ae2",
   "metadata": {},
   "outputs": [
    {
     "data": {
      "text/plain": [
       "array([0, 1, 2, 3, 4, 5, 6, 7, 8, 9])"
      ]
     },
     "execution_count": 76,
     "metadata": {},
     "output_type": "execute_result"
    }
   ],
   "source": [
    "# Shuffle and Permutation\n",
    "a = np.arange(10)\n",
    "a"
   ]
  },
  {
   "cell_type": "code",
   "execution_count": 82,
   "id": "b6f55a34",
   "metadata": {},
   "outputs": [],
   "source": [
    "np.random.shuffle(a)         # In-place"
   ]
  },
  {
   "cell_type": "code",
   "execution_count": 83,
   "id": "3b601c93",
   "metadata": {},
   "outputs": [
    {
     "data": {
      "text/plain": [
       "array([2, 4, 5, 9, 7, 0, 8, 1, 3, 6])"
      ]
     },
     "execution_count": 83,
     "metadata": {},
     "output_type": "execute_result"
    }
   ],
   "source": [
    "a"
   ]
  },
  {
   "cell_type": "code",
   "execution_count": 84,
   "id": "85108516",
   "metadata": {},
   "outputs": [
    {
     "data": {
      "text/plain": [
       "array([2, 4, 5, 9, 7, 0, 8, 1, 3, 6])"
      ]
     },
     "execution_count": 84,
     "metadata": {},
     "output_type": "execute_result"
    }
   ],
   "source": [
    "np.random.permutation(a)     # Returns new array\n",
    "a"
   ]
  },
  {
   "cell_type": "code",
   "execution_count": 85,
   "id": "eee9b614",
   "metadata": {},
   "outputs": [],
   "source": [
    "# Setting seed for reproducibility\n",
    "np.random.seed(42)"
   ]
  },
  {
   "cell_type": "markdown",
   "id": "7cf60cac",
   "metadata": {},
   "source": [
    "## 12. Normalize Rows of a Matrix"
   ]
  },
  {
   "cell_type": "code",
   "execution_count": 2,
   "id": "d8e5f00d",
   "metadata": {},
   "outputs": [
    {
     "name": "stdout",
     "output_type": "stream",
     "text": [
      "[[0.74055625 0.29745348 0.60257603]\n",
      " [0.6481751  0.51808152 0.55808653]\n",
      " [0.36914744 0.10253563 0.92369725]]\n"
     ]
    }
   ],
   "source": [
    "import numpy as np\n",
    "def normalize_rows(x):\n",
    "    return x / np.linalg.norm(x, axis=1, keepdims=True)\n",
    "\n",
    "matrix = np.random.rand(3, 3)\n",
    "normalized_matrix = normalize_rows(matrix)\n",
    "print(normalized_matrix)"
   ]
  },
  {
   "cell_type": "markdown",
   "id": "f01e10db",
   "metadata": {},
   "source": [
    "## 13. Custom Universal Function"
   ]
  },
  {
   "cell_type": "code",
   "execution_count": 3,
   "id": "d476b8a6",
   "metadata": {},
   "outputs": [
    {
     "name": "stdout",
     "output_type": "stream",
     "text": [
      "[ 4  9 16]\n"
     ]
    }
   ],
   "source": [
    "# Define a custom function\n",
    "def custom_func(x):\n",
    "    return x**2 + 2*x + 1\n",
    "\n",
    "#Vectorize the function\n",
    "vectorized_func = np.vectorize(custom_func)\n",
    "\n",
    "#Apply to array\n",
    "arr = np.array([1, 2, 3])\n",
    "print(vectorized_func(arr))\n",
    "#Output: [4 9 16]"
   ]
  },
  {
   "cell_type": "markdown",
   "id": "fa13e32f",
   "metadata": {},
   "source": [
    "## 14. Memory Efficiency: Views vs. Copies"
   ]
  },
  {
   "cell_type": "code",
   "execution_count": 4,
   "id": "dd0168b1",
   "metadata": {},
   "outputs": [
    {
     "name": "stdout",
     "output_type": "stream",
     "text": [
      "[100   1   2   3   4   5   6   7   8   9]\n"
     ]
    }
   ],
   "source": [
    "a = np.arange(10)\n",
    "b = a[::2]  # This is a view\n",
    "b[0] = 100\n",
    "print(a)    # Output: [100   1   2   3   4   5   6   7   8   9]"
   ]
  },
  {
   "cell_type": "markdown",
   "id": "91f2ae23",
   "metadata": {},
   "source": [
    "## 16. Vectorization"
   ]
  },
  {
   "cell_type": "code",
   "execution_count": 5,
   "id": "111f6f97",
   "metadata": {},
   "outputs": [],
   "source": [
    "# Loop\n",
    "a = [1, 2, 3, 4]\n",
    "b = [x**2 for x in a]"
   ]
  },
  {
   "cell_type": "code",
   "execution_count": 6,
   "id": "d227da2b",
   "metadata": {},
   "outputs": [
    {
     "data": {
      "text/plain": [
       "[1, 2, 3, 4]"
      ]
     },
     "execution_count": 6,
     "metadata": {},
     "output_type": "execute_result"
    }
   ],
   "source": [
    "a"
   ]
  },
  {
   "cell_type": "code",
   "execution_count": 7,
   "id": "00f865d1",
   "metadata": {},
   "outputs": [
    {
     "data": {
      "text/plain": [
       "[1, 4, 9, 16]"
      ]
     },
     "execution_count": 7,
     "metadata": {},
     "output_type": "execute_result"
    }
   ],
   "source": [
    "b"
   ]
  },
  {
   "cell_type": "code",
   "execution_count": 8,
   "id": "4e46aa27",
   "metadata": {},
   "outputs": [],
   "source": [
    "# Vectorization\n",
    "import numpy as np\n",
    "a = np.array([1, 2, 3, 4])\n",
    "b = a ** 2  # Vectorized"
   ]
  },
  {
   "cell_type": "code",
   "execution_count": 9,
   "id": "5e519199",
   "metadata": {},
   "outputs": [
    {
     "data": {
      "text/plain": [
       "array([1, 2, 3, 4])"
      ]
     },
     "execution_count": 9,
     "metadata": {},
     "output_type": "execute_result"
    }
   ],
   "source": [
    "a"
   ]
  },
  {
   "cell_type": "code",
   "execution_count": 10,
   "id": "583250b5",
   "metadata": {},
   "outputs": [
    {
     "data": {
      "text/plain": [
       "array([ 1,  4,  9, 16])"
      ]
     },
     "execution_count": 10,
     "metadata": {},
     "output_type": "execute_result"
    }
   ],
   "source": [
    "b"
   ]
  },
  {
   "cell_type": "code",
   "execution_count": 11,
   "id": "d17d62a5",
   "metadata": {},
   "outputs": [
    {
     "name": "stdout",
     "output_type": "stream",
     "text": [
      "12 ms ± 329 μs per loop (mean ± std. dev. of 7 runs, 100 loops each)\n",
      "783 μs ± 30.1 μs per loop (mean ± std. dev. of 7 runs, 1,000 loops each)\n"
     ]
    }
   ],
   "source": [
    "%timeit [x**2 for x in range(100000)]        # Slower\n",
    "%timeit np.arange(100000) ** 2               # Faster"
   ]
  },
  {
   "cell_type": "markdown",
   "id": "78bdd82c",
   "metadata": {},
   "source": [
    "## 17. C-order vs Fortran-order   "
   ]
  },
  {
   "cell_type": "code",
   "execution_count": 12,
   "id": "dcbe409e",
   "metadata": {},
   "outputs": [
    {
     "data": {
      "text/plain": [
       "array([[1, 2],\n",
       "       [3, 4]])"
      ]
     },
     "execution_count": 12,
     "metadata": {},
     "output_type": "execute_result"
    }
   ],
   "source": [
    "a = np.array([[1, 2], [3, 4]], order='C')\n",
    "a"
   ]
  },
  {
   "cell_type": "code",
   "execution_count": 13,
   "id": "dafd851f",
   "metadata": {},
   "outputs": [
    {
     "data": {
      "text/plain": [
       "array([[1, 2],\n",
       "       [3, 4]])"
      ]
     },
     "execution_count": 13,
     "metadata": {},
     "output_type": "execute_result"
    }
   ],
   "source": [
    "b = np.array([[1, 2], [3, 4]], order='F')\n",
    "b"
   ]
  },
  {
   "cell_type": "code",
   "execution_count": 14,
   "id": "9e77c521",
   "metadata": {},
   "outputs": [
    {
     "data": {
      "text/plain": [
       "array([[1, 2],\n",
       "       [3, 4]])"
      ]
     },
     "execution_count": 14,
     "metadata": {},
     "output_type": "execute_result"
    }
   ],
   "source": [
    "# view(): Shares memory   \n",
    "b = a.view()\n",
    "b"
   ]
  },
  {
   "cell_type": "code",
   "execution_count": 15,
   "id": "ca0f6e77",
   "metadata": {},
   "outputs": [
    {
     "data": {
      "text/plain": [
       "array([[1, 2],\n",
       "       [3, 4]])"
      ]
     },
     "execution_count": 15,
     "metadata": {},
     "output_type": "execute_result"
    }
   ],
   "source": [
    "# copy(): Independent data\n",
    "c = a.copy()\n",
    "c"
   ]
  },
  {
   "cell_type": "markdown",
   "id": "def4a43e",
   "metadata": {},
   "source": [
    "## 18. Memory Info"
   ]
  },
  {
   "cell_type": "code",
   "execution_count": 16,
   "id": "c9f03cfc",
   "metadata": {},
   "outputs": [
    {
     "data": {
      "text/plain": [
       "array([[1, 2],\n",
       "       [3, 4]])"
      ]
     },
     "execution_count": 16,
     "metadata": {},
     "output_type": "execute_result"
    }
   ],
   "source": [
    "a = np.array([[1, 2], [3, 4]])\n",
    "a"
   ]
  },
  {
   "cell_type": "code",
   "execution_count": 17,
   "id": "ee76c88e",
   "metadata": {},
   "outputs": [
    {
     "name": "stdout",
     "output_type": "stream",
     "text": [
      "32\n"
     ]
    }
   ],
   "source": [
    "# nbytes: Total bytes consumed     \n",
    "print(a.nbytes)      # Total memory"
   ]
  },
  {
   "cell_type": "code",
   "execution_count": 18,
   "id": "37da2438",
   "metadata": {},
   "outputs": [
    {
     "name": "stdout",
     "output_type": "stream",
     "text": [
      "(16, 8)\n"
     ]
    }
   ],
   "source": [
    "# strides: Steps (in bytes) to move in each dimension\n",
    "print(a.strides)     # e.g., (16, 8)"
   ]
  }
 ],
 "metadata": {
  "kernelspec": {
   "display_name": "base",
   "language": "python",
   "name": "python3"
  },
  "language_info": {
   "codemirror_mode": {
    "name": "ipython",
    "version": 3
   },
   "file_extension": ".py",
   "mimetype": "text/x-python",
   "name": "python",
   "nbconvert_exporter": "python",
   "pygments_lexer": "ipython3",
   "version": "3.13.5"
  }
 },
 "nbformat": 4,
 "nbformat_minor": 5
}
